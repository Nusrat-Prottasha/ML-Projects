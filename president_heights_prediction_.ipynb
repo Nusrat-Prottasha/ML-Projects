{
  "nbformat": 4,
  "nbformat_minor": 0,
  "metadata": {
    "colab": {
      "name": "president heights prediction .ipynb",
      "provenance": []
    },
    "kernelspec": {
      "name": "python3",
      "display_name": "Python 3"
    }
  },
  "cells": [
    {
      "cell_type": "code",
      "metadata": {
        "id": "ggujRT1ZPdZT"
      },
      "source": [
        " import numpy as np\r\n",
        "import pandas as pd"
      ],
      "execution_count": null,
      "outputs": []
    },
    {
      "cell_type": "code",
      "metadata": {
        "colab": {
          "base_uri": "https://localhost:8080/"
        },
        "id": "VVALf0UWPdmA",
        "outputId": "4f878304-0cb8-41d4-cd04-74b4d577aa79"
      },
      "source": [
        "data = pd.read_csv(\"/content/president_heights.csv\")\r\n",
        "print(data.head(10))"
      ],
      "execution_count": null,
      "outputs": [
        {
          "output_type": "stream",
          "text": [
            "   order                    name  height(cm)\n",
            "0      1       George Washington         189\n",
            "1      2              John Adams         170\n",
            "2      3        Thomas Jefferson         189\n",
            "3      4           James Madison         163\n",
            "4      5            James Monroe         183\n",
            "5      6       John Quincy Adams         171\n",
            "6      7          Andrew Jackson         185\n",
            "7      8        Martin Van Buren         168\n",
            "8      9  William Henry Harrison         173\n",
            "9     10              John Tyler         183\n"
          ],
          "name": "stdout"
        }
      ]
    },
    {
      "cell_type": "code",
      "metadata": {
        "colab": {
          "base_uri": "https://localhost:8080/"
        },
        "id": "mXIkswo6P4_g",
        "outputId": "6f56a5a0-77b8-498a-ac40-343e16f1bc50"
      },
      "source": [
        "height = np.array(data[\"height(cm)\"])\r\n",
        "print(height)"
      ],
      "execution_count": null,
      "outputs": [
        {
          "output_type": "stream",
          "text": [
            "[189 170 189 163 183 171 185 168 173 183 173 173 175 178 183 193 178 173\n",
            " 174 183 183 168 170 178 182 180 183 178 182 188 175 179 183 193 182 183\n",
            " 177 185 188 188 182 185]\n"
          ],
          "name": "stdout"
        }
      ]
    },
    {
      "cell_type": "code",
      "metadata": {
        "colab": {
          "base_uri": "https://localhost:8080/"
        },
        "id": "ulOB-aa1JnYG",
        "outputId": "7df49e76-9ce6-4da2-e04d-1c735d8546f1"
      },
      "source": [
        "print(\"Mean of heights =\", height.mean())"
      ],
      "execution_count": null,
      "outputs": [
        {
          "output_type": "stream",
          "text": [
            "Mean of heights = 179.73809523809524\n"
          ],
          "name": "stdout"
        }
      ]
    },
    {
      "cell_type": "code",
      "metadata": {
        "colab": {
          "base_uri": "https://localhost:8080/"
        },
        "id": "2tnUvptKQfKv",
        "outputId": "84a0eb99-1aea-415a-8826-a6f3ae147978"
      },
      "source": [
        "print(\"Standard Deviation of height =\", height.std())"
      ],
      "execution_count": null,
      "outputs": [
        {
          "output_type": "stream",
          "text": [
            "Standard Deviation of height = 6.931843442745892\n"
          ],
          "name": "stdout"
        }
      ]
    },
    {
      "cell_type": "code",
      "metadata": {
        "colab": {
          "base_uri": "https://localhost:8080/"
        },
        "id": "BJIyYA0gQiYP",
        "outputId": "47b1aecb-9ef9-4f20-fe26-fd874d8448bc"
      },
      "source": [
        "print(\"Minimum of height =\", height.min())"
      ],
      "execution_count": null,
      "outputs": [
        {
          "output_type": "stream",
          "text": [
            "Minimum height = 163\n"
          ],
          "name": "stdout"
        }
      ]
    },
    {
      "cell_type": "code",
      "metadata": {
        "colab": {
          "base_uri": "https://localhost:8080/"
        },
        "id": "iAWF_SOCQoW2",
        "outputId": "10a9ec64-f7ac-48e1-86ac-49a1c385c825"
      },
      "source": [
        "print(\"Maximum of  height =\", height.max())"
      ],
      "execution_count": null,
      "outputs": [
        {
          "output_type": "stream",
          "text": [
            "Maximum height = 193\n"
          ],
          "name": "stdout"
        }
      ]
    },
    {
      "cell_type": "code",
      "metadata": {
        "colab": {
          "base_uri": "https://localhost:8080/"
        },
        "id": "J-bGaXn3QvMe",
        "outputId": "f1b9af3f-1828-457b-e522-71edc46578c3"
      },
      "source": [
        "print(\"Sum of height =\", height.sum())"
      ],
      "execution_count": null,
      "outputs": [
        {
          "output_type": "stream",
          "text": [
            "Sum of height = 7549\n"
          ],
          "name": "stdout"
        }
      ]
    },
    {
      "cell_type": "code",
      "metadata": {
        "id": "z9dN__LcWmNC"
      },
      "source": [
        "print(\"Minimum of height =\", height.min())\r\n"
      ],
      "execution_count": null,
      "outputs": []
    },
    {
      "cell_type": "code",
      "metadata": {
        "colab": {
          "base_uri": "https://localhost:8080/"
        },
        "id": "zo2hgVmHb_bz",
        "outputId": "b2b71b80-1c0b-40ef-b391-32293f5d2f8b"
      },
      "source": [
        "print(\"variance of height =\", height.var())\r\n"
      ],
      "execution_count": null,
      "outputs": [
        {
          "output_type": "stream",
          "text": [
            "variance height = 48.05045351473922\n"
          ],
          "name": "stdout"
        }
      ]
    },
    {
      "cell_type": "code",
      "metadata": {
        "colab": {
          "base_uri": "https://localhost:8080/"
        },
        "id": "-JiDLkLyihOb",
        "outputId": "a0ab0feb-1898-4f6f-e350-2eb60cf2c28f"
      },
      "source": [
        "print(\" index of minimum of height =\", height.argmin())\r\n"
      ],
      "execution_count": null,
      "outputs": [
        {
          "output_type": "stream",
          "text": [
            " index of minimum of height = 3\n"
          ],
          "name": "stdout"
        }
      ]
    },
    {
      "cell_type": "code",
      "metadata": {
        "colab": {
          "base_uri": "https://localhost:8080/"
        },
        "id": "4KMpodROihTR",
        "outputId": "ed47a33d-68e4-4932-a66c-ac3c0c0436b4"
      },
      "source": [
        "print(\" index of maximum height =\", height.argmax())\r\n"
      ],
      "execution_count": null,
      "outputs": [
        {
          "output_type": "stream",
          "text": [
            " index of maximum height = 15\n"
          ],
          "name": "stdout"
        }
      ]
    },
    {
      "cell_type": "code",
      "metadata": {
        "colab": {
          "base_uri": "https://localhost:8080/"
        },
        "id": "YNV72Ai1lj2K",
        "outputId": "9ec7df8b-0649-4a2b-bb0b-8106cfe9cb8f"
      },
      "source": [
        " print(\" Any elements of height =\", height.any())"
      ],
      "execution_count": null,
      "outputs": [
        {
          "output_type": "stream",
          "text": [
            "  any elements height = True\n"
          ],
          "name": "stdout"
        }
      ]
    },
    {
      "cell_type": "code",
      "metadata": {
        "colab": {
          "base_uri": "https://localhost:8080/"
        },
        "id": "R9-bUMTTlj5M",
        "outputId": "647319a8-6846-4f49-f720-bf6347921ec6"
      },
      "source": [
        "print(\" All elements of height =\", height.all())"
      ],
      "execution_count": null,
      "outputs": [
        {
          "output_type": "stream",
          "text": [
            " All elements height = True\n"
          ],
          "name": "stdout"
        }
      ]
    },
    {
      "cell_type": "code",
      "metadata": {
        "colab": {
          "base_uri": "https://localhost:8080/"
        },
        "id": "TnZgdVJUmFHY",
        "outputId": "ace435ee-de6b-4bb9-d621-c05949b41b66"
      },
      "source": [
        "print(\" product of elements height =\", height.prod())"
      ],
      "execution_count": null,
      "outputs": [
        {
          "output_type": "stream",
          "text": [
            " product of elements height = 1501594074476445696\n"
          ],
          "name": "stdout"
        }
      ]
    },
    {
      "cell_type": "code",
      "metadata": {
        "colab": {
          "base_uri": "https://localhost:8080/"
        },
        "id": "ioYCUCILcftI",
        "outputId": "c37cf78f-3024-4cb2-bdb7-b81887356e58"
      },
      "source": [
        "print(\"25th percentile =\", np.percentile(height, 25))"
      ],
      "execution_count": null,
      "outputs": [
        {
          "output_type": "stream",
          "text": [
            "25th percentile = 174.25\n"
          ],
          "name": "stdout"
        }
      ]
    },
    {
      "cell_type": "code",
      "metadata": {
        "colab": {
          "base_uri": "https://localhost:8080/"
        },
        "id": "hzaCaUUkcfwx",
        "outputId": "d87e56cb-a487-4cfd-d19e-694d043d1183"
      },
      "source": [
        "print(\"Median =\", np.median(height))\r\n"
      ],
      "execution_count": null,
      "outputs": [
        {
          "output_type": "stream",
          "text": [
            "Median = 182.0\n"
          ],
          "name": "stdout"
        }
      ]
    },
    {
      "cell_type": "code",
      "metadata": {
        "colab": {
          "base_uri": "https://localhost:8080/"
        },
        "id": "Bh2u042wdEPB",
        "outputId": "5324c091-b48e-4613-c8b1-e1209848a485"
      },
      "source": [
        "print(\"75th percentile =\", np.percentile(height, 75))"
      ],
      "execution_count": null,
      "outputs": [
        {
          "output_type": "stream",
          "text": [
            "75th percentile = 183.0\n"
          ],
          "name": "stdout"
        }
      ]
    },
    {
      "cell_type": "code",
      "metadata": {
        "id": "Lsckaa-Xd5_s"
      },
      "source": [
        "import matplotlib.pyplot as plt\r\n",
        "import seaborn as sns\r\n",
        "sns.set()"
      ],
      "execution_count": null,
      "outputs": []
    },
    {
      "cell_type": "code",
      "metadata": {
        "colab": {
          "base_uri": "https://localhost:8080/",
          "height": 301
        },
        "id": "PoN14WOceflS",
        "outputId": "379b6892-560c-4966-b8ed-87397611159e"
      },
      "source": [
        "plt.hist(height)\r\n",
        "plt.title(\"Height Distribution of Presidents of USA\")\r\n",
        "plt.xlabel(\"height(cm)\")\r\n",
        "plt.ylabel(\"Number\")\r\n",
        "plt.show()"
      ],
      "execution_count": null,
      "outputs": [
        {
          "output_type": "display_data",
          "data": {
            "image/png": "[encoded data removed]",
            "text/plain": [
              "<Figure size 432x288 with 1 Axes>"
            ]
          },
          "metadata": {
            "tags": []
          }
        }
      ]
    },
    {
      "cell_type": "code",
      "metadata": {
        "colab": {
          "base_uri": "https://localhost:8080/",
          "height": 281
        },
        "id": "4MYLDvplfpdZ",
        "outputId": "a7eccde3-078a-410c-ba10-0b72acf3c17a"
      },
      "source": [
        "plt.pie(height)\r\n",
        "plt.title(\"Height Distribution of Presidents of USA\")\r\n",
        "plt.xlabel(\"height(cm)\")\r\n",
        "plt.ylabel(\"Number\")\r\n",
        "plt.show()"
      ],
      "execution_count": null,
      "outputs": [
        {
          "output_type": "display_data",
          "data": {
            "image/png": "[encoded data removed]",
            "text/plain": [
              "<Figure size 432x288 with 1 Axes>"
            ]
          },
          "metadata": {
            "tags": []
          }
        }
      ]
    },
    {
      "cell_type": "code",
      "metadata": {
        "id": "i4AElIlKd6j9"
      },
      "source": [
        ""
      ],
      "execution_count": null,
      "outputs": []
    }
  ]
}